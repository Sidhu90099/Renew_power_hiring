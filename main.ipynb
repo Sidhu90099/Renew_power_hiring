{
  "metadata": {
    "kernelspec": {
      "language": "python",
      "display_name": "Python 3",
      "name": "python3"
    },
    "language_info": {
      "name": "python",
      "version": "3.7.12",
      "mimetype": "text/x-python",
      "codemirror_mode": {
        "name": "ipython",
        "version": 3
      },
      "pygments_lexer": "ipython3",
      "nbconvert_exporter": "python",
      "file_extension": ".py"
    },
    "colab": {
      "provenance": []
    }
  },
  "nbformat_minor": 0,
  "nbformat": 4,
  "cells": [
    {
      "cell_type": "markdown",
      "source": [
        "# Renew Power Hiring Hackathon MachineHack\n",
        "\n",
        "**Name**: Mahesh Chandra Duddu\n",
        "\n",
        "**Email-Id**: duddumaheshchandra@gmail.com\n",
        "\n",
        "**PhNo**: +91-9440642368\n",
        "\n",
        "Thank you **Renew Power** and **MachineHack** for providing me with this opportunity."
      ],
      "metadata": {
        "_uuid": "8f2839f25d086af736a60e9eeb907d3b93b6e0e5",
        "_cell_guid": "b1076dfc-b9ad-4769-8c92-a6c4dae69d19",
        "execution": {
          "iopub.status.busy": "2022-09-14T02:28:43.936928Z",
          "iopub.execute_input": "2022-09-14T02:28:43.937585Z",
          "iopub.status.idle": "2022-09-14T02:28:43.989249Z",
          "shell.execute_reply.started": "2022-09-14T02:28:43.937486Z",
          "shell.execute_reply": "2022-09-14T02:28:43.988110Z"
        },
        "id": "rmMJL-WJxTpB"
      }
    },
    {
      "cell_type": "markdown",
      "source": [
        "Run this notebook in kaggle, by using the dataset, which is updated one. Or To run locally in your machine, you need to first change the path of data, while before reading the dataset in the cell."
      ],
      "metadata": {
        "id": "gb1BciT8xTpD"
      }
    },
    {
      "cell_type": "markdown",
      "source": [
        "# Proposed Approach(Moderately Scalable & Highly Generalizable)\n",
        "Proposed approach is to use modelling based on each turbine id using fully engineered features along with square root data transformation, 5-Fold Cross validation, later getting the median of all the predictions made by models on test data.\n",
        "* **Data Cleaning**: No null values or duplicate rows.\n",
        "* **Handling Outliers**: Square Root Transformation is used on data to handle skewness of data.\n",
        "* **Feature Engineering**: All pairs of features are selected without repetition, to get new features by doing divide, sum, multiply and difference of those pair features.\n",
        "* **Feature Selection**: Didn't improve the model results.\n",
        "* **Feature Scaling**: Standardization followed by Normalization is performed.\n",
        "* **Model Building**: Different algorithms are tried for this modelling, but ExtraTreesRegressor performed really well relatively, and is selcted as the model in our proposed approach.\n",
        "* **Hyperparameter Tuning**: It didnt improve the model results."
      ],
      "metadata": {
        "id": "gMGfNrGsxTpE"
      }
    },
    {
      "cell_type": "code",
      "source": [
        "import numpy as np # linear algebra\n",
        "import pandas as pd # data processing, CSV file I/O (e.g. pd.read_csv)\n",
        "\n",
        "# Visualization Libraries\n",
        "import matplotlib.pyplot as plt\n",
        "import seaborn as sns\n",
        "\n",
        "# Feature Scaling\n",
        "from sklearn.preprocessing import StandardScaler, MinMaxScaler\n",
        "\n",
        "# Libraries required for Cross Validation and Hyperparameter Tuning\n",
        "from sklearn.feature_selection import SelectFromModel\n",
        "from sklearn.model_selection import KFold, RandomizedSearchCV, train_test_split\n",
        "from sklearn.ensemble import GradientBoostingRegressor, RandomForestRegressor, ExtraTreesRegressor, AdaBoostRegressor, GradientBoostingRegressor, HistGradientBoostingRegressor, StackingRegressor, VotingRegressor\n",
        "from sklearn.metrics import mean_absolute_percentage_error\n",
        "from sklearn.linear_model import LinearRegression, HuberRegressor, Lasso, Ridge\n",
        "from catboost import CatBoostRegressor\n",
        "from xgboost import XGBRegressor\n",
        "from lightgbm import LGBMRegressor\n",
        "from sklearn.tree import DecisionTreeRegressor, ExtraTreeRegressor"
      ],
      "metadata": {
        "trusted": true,
        "id": "_F7dzerqxTpE"
      },
      "execution_count": null,
      "outputs": []
    },
    {
      "cell_type": "code",
      "source": [
        "# Reading dataset using pandas and storing it in dataframes\n",
        "train = pd.read_csv('../input/renew-power-hiring-hackathon/ReNew_Participants_Data/train.csv')\n",
        "test = pd.read_csv('../input/renew-power-hiring-hackathon/ReNew_Participants_Data/test.csv')\n",
        "sample = pd.read_csv('../input/renew-power-hiring-hackathon/ReNew_Participants_Data/submission.csv')"
      ],
      "metadata": {
        "trusted": true,
        "id": "E8xzZGY3xTpF"
      },
      "execution_count": null,
      "outputs": []
    },
    {
      "cell_type": "code",
      "source": [
        "# Printing first 5 lines of train data\n",
        "train.head()"
      ],
      "metadata": {
        "trusted": true,
        "id": "igwU8IprxTpF"
      },
      "execution_count": null,
      "outputs": []
    },
    {
      "cell_type": "code",
      "source": [
        "# Statistics of train data\n",
        "train.describe()"
      ],
      "metadata": {
        "trusted": true,
        "id": "6LlqofcqxTpG"
      },
      "execution_count": null,
      "outputs": []
    },
    {
      "cell_type": "code",
      "source": [
        "# Type of features in the train data\n",
        "train.info()"
      ],
      "metadata": {
        "trusted": true,
        "id": "rwwhCJXHxTpG"
      },
      "execution_count": null,
      "outputs": []
    },
    {
      "cell_type": "code",
      "source": [
        "# Columns present in the train dataset\n",
        "train.columns"
      ],
      "metadata": {
        "trusted": true,
        "id": "sv-dfKPgxTpH"
      },
      "execution_count": null,
      "outputs": []
    },
    {
      "cell_type": "markdown",
      "source": [
        "# Null Values"
      ],
      "metadata": {
        "id": "QsFft84NxTpH"
      }
    },
    {
      "cell_type": "code",
      "source": [
        "#Number of null values in dataset\n",
        "train.isnull().sum()"
      ],
      "metadata": {
        "trusted": true,
        "id": "pH852yZIxTpI"
      },
      "execution_count": null,
      "outputs": []
    },
    {
      "cell_type": "code",
      "source": [
        "test.isnull().sum()"
      ],
      "metadata": {
        "trusted": true,
        "id": "CHc20mVfxTpI"
      },
      "execution_count": null,
      "outputs": []
    },
    {
      "cell_type": "markdown",
      "source": [
        "No null values!"
      ],
      "metadata": {
        "id": "yfuSZAgfxTpJ"
      }
    },
    {
      "cell_type": "markdown",
      "source": [
        "# Duplicates"
      ],
      "metadata": {
        "id": "H7QpwfYnxTpJ"
      }
    },
    {
      "cell_type": "code",
      "source": [
        "# Number of duplicates in the dataset\n",
        "train.duplicated().sum()"
      ],
      "metadata": {
        "trusted": true,
        "id": "s2uXJO81xTpJ"
      },
      "execution_count": null,
      "outputs": []
    },
    {
      "cell_type": "code",
      "source": [
        "test.duplicated().sum()"
      ],
      "metadata": {
        "trusted": true,
        "id": "GWVvs2eBxTpJ"
      },
      "execution_count": null,
      "outputs": []
    },
    {
      "cell_type": "markdown",
      "source": [
        "No duplicate rows:)"
      ],
      "metadata": {
        "id": "_T1kNx9NxTpJ"
      }
    },
    {
      "cell_type": "code",
      "source": [
        "# Timestamp is the unique identifier of the data; it shouldn’t be used as an input in the model\n",
        "# Remove timestamp column from both train and test data.\n",
        "train.drop('timestamp', axis = 1, inplace = True)\n",
        "# test.drop('timestamp', axis = 1, inplace = True)"
      ],
      "metadata": {
        "trusted": true,
        "id": "Eq-n-pZQxTpK"
      },
      "execution_count": null,
      "outputs": []
    },
    {
      "cell_type": "code",
      "source": [
        "# Rename column name reactice_power_calculated_by_converter by correcting typo error\n",
        "train.rename({'reactice_power_calculated_by_converter': 'reactive_power_calculated_by_converter'}, axis = 1, inplace = True)\n",
        "test.rename({'reactice_power_calculated_by_converter': 'reactive_power_calculated_by_converter'}, axis = 1, inplace = True)"
      ],
      "metadata": {
        "trusted": true,
        "id": "pmnSoIa9xTpK"
      },
      "execution_count": null,
      "outputs": []
    },
    {
      "cell_type": "markdown",
      "source": [
        "## Exploratory Data Analysis(EDA)"
      ],
      "metadata": {
        "id": "3qJPCJQbxTpK"
      }
    },
    {
      "cell_type": "code",
      "source": [
        "inp_features = ['active_power_calculated_by_converter', 'active_power_raw',\n",
        "       'ambient_temperature', 'generator_speed', 'generator_winding_temp_max',\n",
        "       'grid_power10min_average', 'nc1_inside_temp', 'nacelle_temp',\n",
        "       'reactive_power_calculated_by_converter', 'reactive_power',\n",
        "       'wind_direction_raw', 'wind_speed_raw', 'wind_speed_turbulence',\n",
        "       'turbine_id']"
      ],
      "metadata": {
        "trusted": true,
        "id": "lBqr1wgXxTpK"
      },
      "execution_count": null,
      "outputs": []
    },
    {
      "cell_type": "markdown",
      "source": [
        "## Univariate Distributions"
      ],
      "metadata": {
        "id": "C0iivS5IxTpL"
      }
    },
    {
      "cell_type": "markdown",
      "source": [
        "# Histogram and Density Plots"
      ],
      "metadata": {
        "id": "zfgum5a4xTpL"
      }
    },
    {
      "cell_type": "code",
      "source": [
        "ig = plt.figure(figsize = (30,28))\n",
        "\n",
        "for i in range(13):\n",
        "    plt.subplot(4,4,i+1)\n",
        "    plt.title(inp_features[i])\n",
        "    sns.histplot(train[inp_features[i]])"
      ],
      "metadata": {
        "trusted": true,
        "id": "HPFpIfy3xTpM"
      },
      "execution_count": null,
      "outputs": []
    },
    {
      "cell_type": "code",
      "source": [
        "plt.title('Target')\n",
        "sns.histplot(train['Target'])"
      ],
      "metadata": {
        "trusted": true,
        "id": "Bv9TIW11xTpM"
      },
      "execution_count": null,
      "outputs": []
    },
    {
      "cell_type": "code",
      "source": [
        "ig = plt.figure(figsize = (30,28))\n",
        "\n",
        "for i in range(13):\n",
        "    plt.subplot(4,4,i+1)\n",
        "    plt.title(inp_features[i])\n",
        "    sns.distplot(train[inp_features[i]], axlabel=inp_features[i])"
      ],
      "metadata": {
        "trusted": true,
        "id": "U_4bmrXLxTpM"
      },
      "execution_count": null,
      "outputs": []
    },
    {
      "cell_type": "code",
      "source": [
        "plt.title('Target')\n",
        "sns.distplot(train['Target'])"
      ],
      "metadata": {
        "trusted": true,
        "id": "lCJq-CmGxTpM"
      },
      "execution_count": null,
      "outputs": []
    },
    {
      "cell_type": "markdown",
      "source": [
        "# Box Plots(Univariate Distributions)"
      ],
      "metadata": {
        "id": "JFRZNiE-xTpM"
      }
    },
    {
      "cell_type": "code",
      "source": [
        "ig = plt.figure(figsize = (30,28))\n",
        "\n",
        "for i in range(13):\n",
        "    plt.subplot(4,4,i+1)\n",
        "    sns.boxplot(x = train[inp_features[i]])"
      ],
      "metadata": {
        "trusted": true,
        "id": "tLc814fixTpM"
      },
      "execution_count": null,
      "outputs": []
    },
    {
      "cell_type": "markdown",
      "source": [
        "# Bar Plots"
      ],
      "metadata": {
        "id": "sFtLBaimxTpM"
      }
    },
    {
      "cell_type": "code",
      "source": [
        "fig = plt.figure(figsize=(12,6))\n",
        "plt.xlabel('Turbine id')\n",
        "plt.title(\"No of different turbine ids\")\n",
        "plt.ylabel('Number of turbine ids')\n",
        "train['turbine_id'].value_counts(sort = True).plot.bar()\n",
        "plt.show()"
      ],
      "metadata": {
        "trusted": true,
        "id": "-E6V23IlxTpM"
      },
      "execution_count": null,
      "outputs": []
    },
    {
      "cell_type": "markdown",
      "source": [
        "Target Feature VS Independent Features\n",
        "\n",
        "In Specific, Target vs ('active_power_calculated_by_converter', 'active_power_raw',\n",
        "       'ambient_temperature', 'generator_speed', 'generator_winding_temp_max',\n",
        "       'grid_power10min_average', 'nc1_inside_temp', 'nacelle_temp',\n",
        "       'reactice_power_calculated_by_converter', 'reactive_power',\n",
        "       'wind_direction_raw', 'wind_speed_raw', 'wind_speed_turbulence',\n",
        "       'turbine_id')"
      ],
      "metadata": {
        "id": "U62qopVMxTpM"
      }
    },
    {
      "cell_type": "markdown",
      "source": [
        "## Bivariate Plots"
      ],
      "metadata": {
        "id": "P7ltQlrsxTpM"
      }
    },
    {
      "cell_type": "markdown",
      "source": [
        "# Scatter Plot"
      ],
      "metadata": {
        "id": "Q_8XeM3FxTpM"
      }
    },
    {
      "cell_type": "code",
      "source": [
        "ig = plt.figure(figsize = (50,50))\n",
        "\n",
        "for i in range(13):\n",
        "    plt.subplot(4,4,i+1)\n",
        "    plt.xlabel(inp_features[i])\n",
        "    plt.ylabel(\"Temperature of rotor bearing\")\n",
        "    plt.scatter(x = train[inp_features[i]], y = train['Target'])"
      ],
      "metadata": {
        "trusted": true,
        "id": "piIbCekaxTpN"
      },
      "execution_count": null,
      "outputs": []
    },
    {
      "cell_type": "code",
      "source": [
        "fig = plt.figure(figsize=(20,15))\n",
        "plt.scatter(x = train[inp_features[13]], y = train['Target'])\n",
        "plt.xlabel(inp_features[13])\n",
        "plt.ylabel(\"Temperature of rotor bearing\")\n",
        "plt.show()"
      ],
      "metadata": {
        "trusted": true,
        "id": "tp2r8iwwxTpN"
      },
      "execution_count": null,
      "outputs": []
    },
    {
      "cell_type": "markdown",
      "source": [
        "# BoxPlot"
      ],
      "metadata": {
        "id": "dIVh68AhxTpN"
      }
    },
    {
      "cell_type": "code",
      "source": [
        "fig = plt.figure(figsize=(25, 25))\n",
        "ax=sns.boxplot(data = train, x = inp_features[13], y = 'Target');\n",
        "ax.set_yscale('log')"
      ],
      "metadata": {
        "trusted": true,
        "id": "qlSeSnGqxTpN"
      },
      "execution_count": null,
      "outputs": []
    },
    {
      "cell_type": "markdown",
      "source": [
        "# Joint Plot"
      ],
      "metadata": {
        "id": "IWh_jH9yxTpN"
      }
    },
    {
      "cell_type": "code",
      "source": [
        "ind = 0"
      ],
      "metadata": {
        "trusted": true,
        "id": "TDihtz-8xTpN"
      },
      "execution_count": null,
      "outputs": []
    },
    {
      "cell_type": "code",
      "source": [
        "plt.figure(figsize=(25,15))\n",
        "sns.jointplot(x = inp_features[ind], y = 'Target', data = train)\n",
        "plt.show()\n",
        "ind += 1"
      ],
      "metadata": {
        "trusted": true,
        "id": "wt2lVo9gxTpN"
      },
      "execution_count": null,
      "outputs": []
    },
    {
      "cell_type": "code",
      "source": [
        "plt.figure(figsize=(25,15))\n",
        "sns.jointplot(x = inp_features[ind], y = 'Target', data = train)\n",
        "plt.show()\n",
        "ind += 1"
      ],
      "metadata": {
        "trusted": true,
        "id": "kBc1-yjxxTpN"
      },
      "execution_count": null,
      "outputs": []
    },
    {
      "cell_type": "code",
      "source": [
        "plt.figure(figsize=(25,15))\n",
        "sns.jointplot(x = inp_features[ind], y = 'Target', data = train)\n",
        "plt.show()\n",
        "ind += 1"
      ],
      "metadata": {
        "trusted": true,
        "id": "S_zY_YvIxTpN"
      },
      "execution_count": null,
      "outputs": []
    },
    {
      "cell_type": "code",
      "source": [
        "plt.figure(figsize=(25,15))\n",
        "sns.jointplot(x = inp_features[ind], y = 'Target', data = train)\n",
        "plt.show()\n",
        "ind += 1"
      ],
      "metadata": {
        "trusted": true,
        "id": "01yUyU3NxTpN"
      },
      "execution_count": null,
      "outputs": []
    },
    {
      "cell_type": "code",
      "source": [
        "plt.figure(figsize=(25,15))\n",
        "sns.jointplot(x = inp_features[ind], y = 'Target', data = train)\n",
        "plt.show()\n",
        "ind += 1"
      ],
      "metadata": {
        "trusted": true,
        "id": "x74IECaMxTpN"
      },
      "execution_count": null,
      "outputs": []
    },
    {
      "cell_type": "code",
      "source": [
        "plt.figure(figsize=(25,15))\n",
        "sns.jointplot(x = inp_features[ind], y = 'Target', data = train)\n",
        "plt.show()\n",
        "ind += 1"
      ],
      "metadata": {
        "trusted": true,
        "id": "V1oqOCM_xTpN"
      },
      "execution_count": null,
      "outputs": []
    },
    {
      "cell_type": "code",
      "source": [
        "plt.figure(figsize=(25,15))\n",
        "sns.jointplot(x = inp_features[ind], y = 'Target', data = train)\n",
        "plt.show()\n",
        "ind += 1"
      ],
      "metadata": {
        "trusted": true,
        "id": "ct2tzt0RxTpN"
      },
      "execution_count": null,
      "outputs": []
    },
    {
      "cell_type": "code",
      "source": [
        "plt.figure(figsize=(25,15))\n",
        "sns.jointplot(x = inp_features[ind], y = 'Target', data = train)\n",
        "plt.show()\n",
        "ind += 1"
      ],
      "metadata": {
        "trusted": true,
        "id": "7r4rpCEbxTpN"
      },
      "execution_count": null,
      "outputs": []
    },
    {
      "cell_type": "code",
      "source": [
        "plt.figure(figsize=(25,15))\n",
        "sns.jointplot(x = inp_features[ind], y = 'Target', data = train)\n",
        "plt.show()\n",
        "ind += 1"
      ],
      "metadata": {
        "trusted": true,
        "id": "q7-TQfiCxTpO"
      },
      "execution_count": null,
      "outputs": []
    },
    {
      "cell_type": "code",
      "source": [
        "plt.figure(figsize=(25,15))\n",
        "sns.jointplot(x = inp_features[ind], y = 'Target', data = train)\n",
        "plt.show()\n",
        "ind += 1"
      ],
      "metadata": {
        "trusted": true,
        "id": "-iXHPkLWxTpO"
      },
      "execution_count": null,
      "outputs": []
    },
    {
      "cell_type": "code",
      "source": [
        "plt.figure(figsize=(25,15))\n",
        "sns.jointplot(x = inp_features[ind], y = 'Target', data = train)\n",
        "plt.show()\n",
        "ind += 1"
      ],
      "metadata": {
        "trusted": true,
        "id": "vk-lPEG0xTpO"
      },
      "execution_count": null,
      "outputs": []
    },
    {
      "cell_type": "code",
      "source": [
        "plt.figure(figsize=(25,15))\n",
        "sns.jointplot(x = inp_features[ind], y = 'Target', data = train)\n",
        "plt.show()\n",
        "ind += 1"
      ],
      "metadata": {
        "trusted": true,
        "id": "w1_REvSMxTpO"
      },
      "execution_count": null,
      "outputs": []
    },
    {
      "cell_type": "code",
      "source": [
        "plt.figure(figsize=(15,55))\n",
        "sns.jointplot(x = inp_features[ind], y = 'Target', data = train)\n",
        "plt.show()\n",
        "ind +=1"
      ],
      "metadata": {
        "trusted": true,
        "id": "PzHyWuU3xTpO"
      },
      "execution_count": null,
      "outputs": []
    },
    {
      "cell_type": "code",
      "source": [
        "plt.figure(figsize=(15,65))\n",
        "sns.jointplot(x = inp_features[ind], y = 'Target', data = train)\n",
        "plt.show()"
      ],
      "metadata": {
        "trusted": true,
        "id": "ZkujuAdJxTpO"
      },
      "execution_count": null,
      "outputs": []
    },
    {
      "cell_type": "markdown",
      "source": [
        "# Bar Plots"
      ],
      "metadata": {
        "id": "_kecTsbpxTpO"
      }
    },
    {
      "cell_type": "code",
      "source": [
        "plt.figure(figsize=(25,25))\n",
        "sns.barplot(x='turbine_id', y='Target', data = train)\n",
        "plt.show()"
      ],
      "metadata": {
        "trusted": true,
        "id": "GUdBbQUPxTpO"
      },
      "execution_count": null,
      "outputs": []
    },
    {
      "cell_type": "markdown",
      "source": [
        "## MultiVariate Plots"
      ],
      "metadata": {
        "id": "L0-NASjqxTpO"
      }
    },
    {
      "cell_type": "markdown",
      "source": [
        "# Heatmap"
      ],
      "metadata": {
        "id": "RfhhpsPJxTpO"
      }
    },
    {
      "cell_type": "code",
      "source": [
        "plt.figure(figsize=(15,15))\n",
        "sns.heatmap(train.corr(), cmap = 'BrBG', annot=True);"
      ],
      "metadata": {
        "trusted": true,
        "id": "OV70y0HbxTpO"
      },
      "execution_count": null,
      "outputs": []
    },
    {
      "cell_type": "markdown",
      "source": [
        "# Pair Plot"
      ],
      "metadata": {
        "id": "2ejRDw0FxTpO"
      }
    },
    {
      "cell_type": "code",
      "source": [
        "sns.pairplot(train)"
      ],
      "metadata": {
        "trusted": true,
        "id": "5VIJg-prxTpO"
      },
      "execution_count": null,
      "outputs": []
    },
    {
      "cell_type": "markdown",
      "source": [
        "# LMplot"
      ],
      "metadata": {
        "id": "HJt6R8uQxTpO"
      }
    },
    {
      "cell_type": "code",
      "source": [
        "plt.figure(figsize=(15,5))\n",
        "sns.lmplot(x = inp_features[0], y = 'Target', data = train, hue = 'turbine_id', fit_reg=False)"
      ],
      "metadata": {
        "trusted": true,
        "id": "oU6fGeUcxTpO"
      },
      "execution_count": null,
      "outputs": []
    },
    {
      "cell_type": "code",
      "source": [
        "plt.figure(figsize=(15,5))\n",
        "sns.lmplot(x = inp_features[1], y = 'Target', data = train, hue = 'turbine_id', fit_reg=False)"
      ],
      "metadata": {
        "trusted": true,
        "id": "g74kidzexTpO"
      },
      "execution_count": null,
      "outputs": []
    },
    {
      "cell_type": "code",
      "source": [
        "plt.figure(figsize=(15,5))\n",
        "sns.lmplot(x = inp_features[2], y = 'Target', data = train, hue = 'turbine_id', fit_reg=False)"
      ],
      "metadata": {
        "trusted": true,
        "id": "_QVWanvyxTpP"
      },
      "execution_count": null,
      "outputs": []
    },
    {
      "cell_type": "code",
      "source": [
        "plt.figure(figsize=(15,5))\n",
        "sns.lmplot(x = inp_features[3], y = 'Target', data = train, hue = 'turbine_id', fit_reg=False)"
      ],
      "metadata": {
        "trusted": true,
        "id": "Bwj7rVMTxTpP"
      },
      "execution_count": null,
      "outputs": []
    },
    {
      "cell_type": "code",
      "source": [
        "plt.figure(figsize=(15,5))\n",
        "sns.lmplot(x = inp_features[4], y = 'Target', data = train, hue = 'turbine_id', fit_reg=False)"
      ],
      "metadata": {
        "trusted": true,
        "id": "v5mwQmumxTpP"
      },
      "execution_count": null,
      "outputs": []
    },
    {
      "cell_type": "code",
      "source": [
        "plt.figure(figsize=(15,5))\n",
        "sns.lmplot(x = inp_features[5], y = 'Target', data = train, hue = 'turbine_id', fit_reg=False)"
      ],
      "metadata": {
        "trusted": true,
        "id": "efJ5wfG8xTpP"
      },
      "execution_count": null,
      "outputs": []
    },
    {
      "cell_type": "code",
      "source": [
        "plt.figure(figsize=(15,5))\n",
        "sns.lmplot(x = inp_features[6], y = 'Target', data = train, hue = 'turbine_id', fit_reg=False)"
      ],
      "metadata": {
        "trusted": true,
        "id": "UuxfwiGqxTpP"
      },
      "execution_count": null,
      "outputs": []
    },
    {
      "cell_type": "code",
      "source": [
        "plt.figure(figsize=(15,5))\n",
        "sns.lmplot(x = inp_features[7], y = 'Target', data = train, hue = 'turbine_id', fit_reg=False)"
      ],
      "metadata": {
        "trusted": true,
        "id": "NOGc2boaxTpP"
      },
      "execution_count": null,
      "outputs": []
    },
    {
      "cell_type": "code",
      "source": [
        "plt.figure(figsize=(15,5))\n",
        "sns.lmplot(x = inp_features[8], y = 'Target', data = train, hue = 'turbine_id', fit_reg=False)"
      ],
      "metadata": {
        "trusted": true,
        "id": "IiSEghDXxTpP"
      },
      "execution_count": null,
      "outputs": []
    },
    {
      "cell_type": "code",
      "source": [
        "plt.figure(figsize=(15,5))\n",
        "sns.lmplot(x = inp_features[9], y = 'Target', data = train, hue = 'turbine_id', fit_reg=False)"
      ],
      "metadata": {
        "trusted": true,
        "id": "fmKs4mlYxTpQ"
      },
      "execution_count": null,
      "outputs": []
    },
    {
      "cell_type": "code",
      "source": [
        "plt.figure(figsize=(15,5))\n",
        "sns.lmplot(x = inp_features[10], y = 'Target', data = train, hue = 'turbine_id', fit_reg=False)"
      ],
      "metadata": {
        "trusted": true,
        "id": "Kef5QH1pxTpQ"
      },
      "execution_count": null,
      "outputs": []
    },
    {
      "cell_type": "code",
      "source": [
        "plt.figure(figsize=(15,5))\n",
        "sns.lmplot(x = inp_features[11], y = 'Target', data = train, hue = 'turbine_id', fit_reg=False)"
      ],
      "metadata": {
        "trusted": true,
        "id": "g3n8oSPRxTpQ"
      },
      "execution_count": null,
      "outputs": []
    },
    {
      "cell_type": "code",
      "source": [
        "plt.figure(figsize=(15,5))\n",
        "sns.lmplot(x = inp_features[12], y = 'Target', data = train, hue = 'turbine_id', fit_reg=False)"
      ],
      "metadata": {
        "trusted": true,
        "id": "IawkOFb4xTpQ"
      },
      "execution_count": null,
      "outputs": []
    },
    {
      "cell_type": "markdown",
      "source": [
        "# Handling Outliers\n",
        "\n",
        "* Tried using Flooring and Capping of outliers, model score imporved by a lot when checked with train data, but it fails to generalize well on test data. Hence, this part is left as an already implemented experiment. \n",
        "* I tried the data transformation on some features that are having high skewed distributions of value greater than 1. This increased the model score slightly.\n",
        "\n"
      ],
      "metadata": {
        "id": "102QuLzdxTpQ"
      }
    },
    {
      "cell_type": "markdown",
      "source": [
        "# Flooring and Capping"
      ],
      "metadata": {
        "id": "Ph309uEPxTpQ"
      }
    },
    {
      "cell_type": "code",
      "source": [
        "# outlier_rmv_features = ['active_power_calculated_by_converter',\n",
        "#  'active_power_raw',\n",
        "#  'generator_speed',\n",
        "#  'generator_winding_temp_max',\n",
        "#  'grid_power10min_average',\n",
        "#  'nc1_inside_temp',\n",
        "#  'nacelle_temp',\n",
        "#  'reactive_power_calculated_by_converter',\n",
        "#  'reactive_power',\n",
        "#  'wind_speed_raw',\n",
        "#  'wind_speed_turbulence',\n",
        "#  'Target']"
      ],
      "metadata": {
        "trusted": true,
        "id": "yiG_RYnuxTpQ"
      },
      "execution_count": null,
      "outputs": []
    },
    {
      "cell_type": "code",
      "source": [
        "# for i in outlier_rmv_features:\n",
        "#     lower_quartile = train[i].quantile(0.05)\n",
        "#     upper_quartile = train[i].quantile(0.95)\n",
        "#     train[i] = np.where(train[i] < lower_quartile, lower_quartile, train[i])\n",
        "#     train[i] = np.where(train[i] > upper_quartile, upper_quartile, train[i])\n",
        "#     if i != 'Target':\n",
        "#         lower_quartile = test[i].quantile(0.05)\n",
        "#         upper_quartile = test[i].quantile(0.95)\n",
        "#         test[i] = np.where(test[i] < lower_quartile, lower_quartile, test[i])\n",
        "#         test[i] = np.where(test[i] > upper_quartile, upper_quartile, test[i])"
      ],
      "metadata": {
        "trusted": true,
        "id": "YXD1mHZTxTpQ"
      },
      "execution_count": null,
      "outputs": []
    },
    {
      "cell_type": "markdown",
      "source": [
        "## Feature Engineering"
      ],
      "metadata": {
        "id": "hrGHAaNUxTpQ"
      }
    },
    {
      "cell_type": "code",
      "source": [
        "train.skew().sort_values(ascending = False)"
      ],
      "metadata": {
        "trusted": true,
        "id": "VnwBziidxTpQ"
      },
      "execution_count": null,
      "outputs": []
    },
    {
      "cell_type": "code",
      "source": [
        "test.skew().sort_values(ascending = False)"
      ],
      "metadata": {
        "trusted": true,
        "id": "KAbYZh2dxTpQ"
      },
      "execution_count": null,
      "outputs": []
    },
    {
      "cell_type": "markdown",
      "source": [
        "# Data Transformation"
      ],
      "metadata": {
        "id": "Vd-J7cloxTpQ"
      }
    },
    {
      "cell_type": "code",
      "source": [
        "# Few columns are highly skewed \n",
        "# Lets do square root transformation taking care of sign\n",
        "train['wind_speed_turbulence'] = train['wind_speed_turbulence'].apply(lambda x: -np.sqrt(np.abs(x)) if x < 0 else np.sqrt(np.abs(x)))\n",
        "train['reactive_power_calculated_by_converter'] = train['reactive_power_calculated_by_converter'].apply(lambda x: -np.sqrt(np.abs(x)) if x < 0 else np.sqrt(np.abs(x)))\n",
        "train['reactive_power'] = train['reactive_power'].apply(lambda x: -np.sqrt(np.abs(x)) if x < 0 else np.sqrt(np.abs(x)))\n",
        "train['active_power_calculated_by_converter'] = train['active_power_calculated_by_converter'].apply(lambda x: -np.sqrt(np.abs(x)) if x < 0 else np.sqrt(np.abs(x)))\n",
        "train['active_power_raw'] = train['active_power_raw'].apply(lambda x: -np.sqrt(np.abs(x)) if x < 0 else np.sqrt(np.abs(x)))\n",
        "train['grid_power10min_average'] = train['grid_power10min_average'].apply(lambda x: -np.sqrt(np.abs(x)) if x < 0 else np.sqrt(np.abs(x)))\n",
        "\n",
        "# train['Target'] = train['Target'].apply(lambda x: -np.sqrt(np.abs(x)) if x < 0 else np.sqrt(np.abs(x)))\n",
        "\n",
        "test['wind_speed_turbulence'] = test['wind_speed_turbulence'].apply(lambda x: -np.sqrt(np.abs(x)) if x < 0 else np.sqrt(np.abs(x)))\n",
        "test['reactive_power_calculated_by_converter'] = test['reactive_power_calculated_by_converter'].apply(lambda x: -np.sqrt(np.abs(x)) if x < 0 else np.sqrt(np.abs(x)))\n",
        "test['reactive_power'] = test['reactive_power'].apply(lambda x: -np.sqrt(np.abs(x)) if x < 0 else np.sqrt(np.abs(x)))\n",
        "test['active_power_calculated_by_converter'] = test['active_power_calculated_by_converter'].apply(lambda x: -np.sqrt(np.abs(x)) if x < 0 else np.sqrt(np.abs(x)))\n",
        "test['active_power_raw'] = test['active_power_raw'].apply(lambda x: -np.sqrt(np.abs(x)) if x < 0 else np.sqrt(np.abs(x)))\n",
        "test['grid_power10min_average'] = test['grid_power10min_average'].apply(lambda x: -np.sqrt(np.abs(x)) if x < 0 else np.sqrt(np.abs(x)))"
      ],
      "metadata": {
        "trusted": true,
        "id": "cYh3IvW8xTpQ"
      },
      "execution_count": null,
      "outputs": []
    },
    {
      "cell_type": "code",
      "source": [
        "train.skew()"
      ],
      "metadata": {
        "trusted": true,
        "id": "gVFMUh7exTpQ"
      },
      "execution_count": null,
      "outputs": []
    },
    {
      "cell_type": "code",
      "source": [
        "train.kurtosis().sort_values(ascending = False)"
      ],
      "metadata": {
        "trusted": true,
        "id": "7nH0bLouxTpQ"
      },
      "execution_count": null,
      "outputs": []
    },
    {
      "cell_type": "code",
      "source": [
        "turbines = list(np.sort(train['turbine_id'].unique()))\n",
        "turbines"
      ],
      "metadata": {
        "trusted": true,
        "id": "TpV-YWxtxTpQ"
      },
      "execution_count": null,
      "outputs": []
    },
    {
      "cell_type": "code",
      "source": [
        "# Ratio Features, Product features, Additive, Subtractive Features\n",
        "tr = train.drop(['Target', 'turbine_id'], axis = 1).columns\n",
        "\n",
        "for i in range(len(tr)):\n",
        "    for j in range(i+1, len(tr)):\n",
        "        train[tr[i] + '/' + tr[j]] = train[tr[i]]/(1+train[tr[j]])\n",
        "        train[tr[i] + '*' + tr[j]] = train[tr[i]]*(train[tr[j]])\n",
        "        train[tr[i] + '+' + tr[j]] = train[tr[i]]+train[tr[j]]\n",
        "        train[tr[i] + '-' + tr[j]] = train[tr[i]]-train[tr[j]]\n",
        "        \n",
        "        test[tr[i] + '/' + tr[j]] = test[tr[i]]/(1+test[tr[j]])\n",
        "        test[tr[i] + '*' + tr[j]] = test[tr[i]]*(test[tr[j]])\n",
        "        test[tr[i] + '+' + tr[j]] = test[tr[i]]+test[tr[j]]\n",
        "        test[tr[i] + '-' + tr[j]] = test[tr[i]]-test[tr[j]]"
      ],
      "metadata": {
        "trusted": true,
        "id": "22N4_Nk7xTpQ"
      },
      "execution_count": null,
      "outputs": []
    },
    {
      "cell_type": "code",
      "source": [
        "train.columns"
      ],
      "metadata": {
        "trusted": true,
        "id": "80ZNk0uXxTpR"
      },
      "execution_count": null,
      "outputs": []
    },
    {
      "cell_type": "markdown",
      "source": [
        "# Feature Selection"
      ],
      "metadata": {
        "id": "H6ScTo8DxTpR"
      }
    },
    {
      "cell_type": "markdown",
      "source": [
        "Tried different methods for feature selction, but the model score didn't improve, and found not useful."
      ],
      "metadata": {
        "id": "IkOQ62QlxTpR"
      }
    },
    {
      "cell_type": "code",
      "source": [
        "# X = train.drop(['turbine_id', 'Target'], axis = 1)\n",
        "# X.reset_index(drop = True, inplace = True)\n",
        "# y = train['Target']\n",
        "# y.reset_index(drop = True, inplace = True)"
      ],
      "metadata": {
        "trusted": true,
        "id": "Vjst1mWbxTpR"
      },
      "execution_count": null,
      "outputs": []
    },
    {
      "cell_type": "code",
      "source": [
        "# sc = StandardScaler()\n",
        "# nc = MinMaxScaler()\n",
        "# x = sc.fit_transform(X)\n",
        "# X_scaled = pd.DataFrame(nc.fit_transform(x), columns = X.columns)"
      ],
      "metadata": {
        "trusted": true,
        "id": "Fn7mC19KxTpR"
      },
      "execution_count": null,
      "outputs": []
    },
    {
      "cell_type": "code",
      "source": [
        "# # X_train, X_test, y_train, y_test = train_test_split(X_scaled,y,test_size=0.3, random_state = 42)\n",
        "\n",
        "# sel = SelectFromModel(RandomForestRegressor(n_jobs = -1, random_state = 42))#code\n",
        "\n",
        "\n",
        "# # fit sel on training data\n",
        "# sel.fit(X, y)"
      ],
      "metadata": {
        "trusted": true,
        "id": "yJz9UZVyxTpR"
      },
      "execution_count": null,
      "outputs": []
    },
    {
      "cell_type": "code",
      "source": [
        "# selected_feat = X_scaled.columns[np.where(cols == True)]\n",
        "# # print length of selected_feat\n",
        "# len(selected_feat)"
      ],
      "metadata": {
        "trusted": true,
        "id": "vQpIqWIIxTpR"
      },
      "execution_count": null,
      "outputs": []
    },
    {
      "cell_type": "code",
      "source": [
        "# fs = list(selected_feat)\n",
        "# print(fs)"
      ],
      "metadata": {
        "trusted": true,
        "id": "5KdfsVkhxTpR"
      },
      "execution_count": null,
      "outputs": []
    },
    {
      "cell_type": "code",
      "source": [
        "# fs = ['active_power_calculated_by_converter', 'active_power_raw', 'ambient_temperature', 'generator_speed', 'generator_winding_temp_max', 'grid_power10min_average', 'nc1_inside_temp', 'nacelle_temp', 'reactice_power_calculated_by_converter', 'reactive_power', 'wind_direction_raw', 'wind_speed_raw', 'wind_speed_turbulence']"
      ],
      "metadata": {
        "trusted": true,
        "id": "CjHNDMJRxTpR"
      },
      "execution_count": null,
      "outputs": []
    },
    {
      "cell_type": "code",
      "source": [
        "# train.drop(fs, axis = 1, inplace = True)\n",
        "# test.drop(fs, axis = 1, inplace = True)"
      ],
      "metadata": {
        "trusted": true,
        "id": "LxwArmMfxTpR"
      },
      "execution_count": null,
      "outputs": []
    },
    {
      "cell_type": "markdown",
      "source": [
        "# Model Building(Based on Turbine ID using 5 Fold Cross Validation)"
      ],
      "metadata": {
        "id": "fYCmEAMBxTpR"
      }
    },
    {
      "cell_type": "code",
      "source": [
        "# Lets create models for different turbine ids\n",
        "full_preds = []\n",
        "full_scores = []\n",
        "shp = []\n",
        "\n",
        "for i in turbines:\n",
        "    print(\"Model on \", i)\n",
        "    turb_data = train[train['turbine_id'] == i]\n",
        "    X = turb_data.drop(['turbine_id', 'Target'], axis = 1)\n",
        "    X.reset_index(drop = True, inplace = True)\n",
        "    y = turb_data['Target']\n",
        "    y.reset_index(drop = True, inplace = True)\n",
        "    te = test[test['turbine_id'] == i]\n",
        "    te = te.drop(['turbine_id'], axis = 1)\n",
        "    te.reset_index(drop = True, inplace = True)\n",
        "    shp.append(te.shape[0])\n",
        "    kf = KFold(n_splits=5,shuffle=True,random_state=42)\n",
        "    pred_test_full = []\n",
        "    cv_score = []\n",
        "    j = 1\n",
        "\n",
        "    for train_index, test_index in kf.split(X, y):\n",
        "        print(\"{} of KFold {}\".format(j, kf.n_splits))\n",
        "        xtr,xvl = X.loc[train_index],X.loc[test_index]\n",
        "        ytr,yvl = y.loc[train_index],y.loc[test_index]\n",
        "        sc = StandardScaler()\n",
        "        nc = MinMaxScaler()\n",
        "        xt = sc.fit_transform(xtr)\n",
        "        xv = sc.transform(xvl)\n",
        "        t = sc.transform(te)\n",
        "        xtr = pd.DataFrame(nc.fit_transform(xt), columns = xtr.columns)\n",
        "        xvl = pd.DataFrame(nc.transform(xv), columns = xvl.columns)\n",
        "        te_df = pd.DataFrame(nc.transform(t), columns = te.columns)\n",
        "#         estimators = [('xtree', ExtraTreesRegressor(n_jobs = -1, random_state = 42)), ('rf', RandomForestRegressor(n_jobs = -1, random_state = 42))]\n",
        "#         model = VotingRegressor(estimators = estimators)\n",
        "        model = ExtraTreesRegressor(n_jobs = -1, random_state = 42)\n",
        "        model.fit(xtr, ytr)\n",
        "        score = mean_absolute_percentage_error(yvl,model.predict(xvl))\n",
        "        print('MAPE score:',score)\n",
        "        cv_score.append(score)    \n",
        "        pred_test = model.predict(te_df)\n",
        "        pred_test_full.append(pred_test)\n",
        "        j += 1\n",
        "    print(\"MEAN CV = \",np.mean(cv_score))\n",
        "    lis = np.median(pred_test_full, axis = 0)\n",
        "    full_scores.append(np.mean(cv_score))\n",
        "    full_preds.append(lis)\n",
        "#     if i == 'Turbine_01':\n",
        "#         break"
      ],
      "metadata": {
        "trusted": true,
        "id": "UvvLSvyCxTpR"
      },
      "execution_count": null,
      "outputs": []
    },
    {
      "cell_type": "code",
      "source": [
        "print(\"Mean of scores = \", np.mean(full_scores))"
      ],
      "metadata": {
        "trusted": true,
        "id": "5-5svnmvxTpR"
      },
      "execution_count": null,
      "outputs": []
    },
    {
      "cell_type": "markdown",
      "source": [
        "# Proposed Approach Result in local CV\n",
        "**median turbine sqrt transform(target not included) fullfeature engineering std norm +-*/**\n",
        "\n",
        "**Mean of scores =  0.010849082802329121**\n",
        "\n",
        "\n",
        "Other experimental results obtained:\n",
        "\n",
        "* Mean of scores =  0.009773862662543736 When flooring and capping used, along with standardization and normalization, with fully engineered features.\n",
        "* Mean of scores =  0.010934307841619816 when std+norm -+-/* features\n",
        "* Mean of scores =  0.011149893671289131 when std+norm /* features\n",
        "* Mean of scores =  0.011153299861025825 when Std /* features"
      ],
      "metadata": {
        "id": "K1mL5JkQxTpR"
      }
    },
    {
      "cell_type": "markdown",
      "source": [
        "# Hyperparameter Tuning\n",
        "It didn't help the model in improving the score, and hence found not useful."
      ],
      "metadata": {
        "id": "8Ckwk25IxTpR"
      }
    },
    {
      "cell_type": "code",
      "source": [
        "# Keeping the predictions with respect to turbine id and their respective rows in submission file\n",
        "for i in turbines:\n",
        "    tes = test[test['turbine_id'] == i]\n",
        "    indexes = list(tes.index)\n",
        "    k = 0\n",
        "    for j in indexes:\n",
        "        sample.iloc[j] = full_preds[turbines.index(i)][k]\n",
        "        k += 1"
      ],
      "metadata": {
        "trusted": true,
        "id": "np3Y_i5cxTpS"
      },
      "execution_count": null,
      "outputs": []
    },
    {
      "cell_type": "code",
      "source": [
        "# Exporting the final predictions file\n",
        "sample.to_csv('model_turbine_median_with_sqrttransform.csv', index = False)"
      ],
      "metadata": {
        "trusted": true,
        "id": "mZ8OuJ0sxTpS"
      },
      "execution_count": null,
      "outputs": []
    }
  ]
}